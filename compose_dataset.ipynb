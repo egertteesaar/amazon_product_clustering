{
 "cells": [
  {
   "cell_type": "code",
   "execution_count": 1,
   "metadata": {},
   "outputs": [],
   "source": [
    "import pandas as pd\n",
    "import gzip\n",
    "\n",
    "import numpy as np\n",
    "\n",
    "def parse(path):\n",
    "    g = gzip.open(path, 'rb')\n",
    "    for l in g:\n",
    "        yield eval(l)\n",
    "\n",
    "def getDF(path):\n",
    "    i = 0\n",
    "    df = {}\n",
    "    for d in parse(path):\n",
    "        df[i] = d\n",
    "        i += 1\n",
    "    return pd.DataFrame.from_dict(df, orient='index')\n",
    "\n",
    "df = getDF('meta_Clothing_Shoes_and_Jewelry.json.gz')\n",
    "\n",
    "df['categories'] = df['categories'].apply(lambda x: np.concatenate(x))"
   ]
  },
  {
   "cell_type": "code",
   "execution_count": 2,
   "metadata": {},
   "outputs": [],
   "source": [
    "from sklearn.preprocessing import MultiLabelBinarizer\n",
    "\n",
    "mlb = MultiLabelBinarizer()\n",
    "\n",
    "values = mlb.fit_transform(df['categories'].head(100000))"
   ]
  },
  {
   "cell_type": "code",
   "execution_count": 3,
   "metadata": {},
   "outputs": [],
   "source": [
    "categories_indexes = {}\n",
    "sample_size = 1000\n",
    "\n",
    "for t, col in enumerate(values.T):\n",
    "    if(col.sum() > 1000):\n",
    "        categories_indexes[t] = np.random.choice(np.argwhere(col==1).flatten(), sample_size)    "
   ]
  },
  {
   "cell_type": "code",
   "execution_count": 4,
   "metadata": {},
   "outputs": [],
   "source": [
    "indexes_to_download = np.unique(np.concatenate(list(categories_indexes.values())))"
   ]
  },
  {
   "cell_type": "markdown",
   "metadata": {},
   "source": [
    "## Download specified indexes, which doesn't appear in 'images' folder\n"
   ]
  },
  {
   "cell_type": "code",
   "execution_count": null,
   "metadata": {},
   "outputs": [
    {
     "name": "stdout",
     "output_type": "stream",
     "text": [
      "10780\n",
      "10781\n",
      "10785\n",
      "10789\n",
      "10792\n",
      "10793\n",
      "10796\n",
      "10798\n",
      "10805\n",
      "10807\n",
      "10808\n",
      "10815\n",
      "12105\n",
      "12750\n",
      "12755\n",
      "14832\n",
      "18117\n",
      "19150\n",
      "34280\n",
      "37793\n",
      "43604\n",
      "44272\n",
      "46382\n",
      "51733\n",
      "51882\n",
      "51947\n",
      "52326\n",
      "52386\n",
      "52431\n",
      "53099\n",
      "54377\n",
      "54498\n",
      "54499\n"
     ]
    }
   ],
   "source": [
    "from os import listdir\n",
    "from os.path import isfile, join\n",
    "import urllib.request\n",
    "\n",
    "mypath = './Images'\n",
    "#get already existing files\n",
    "onlyfiles = [int(f.replace(\".jpg\",\"\")) for f in listdir(mypath) if isfile(join(mypath, f))]\n",
    "\n",
    "\n",
    "#download missing images from url\n",
    "for index in np.setdiff1d(indexes_to_download, onlyfiles):\n",
    "    try:\n",
    "        urllib.request.urlretrieve(df.iloc[index]['imUrl'],\"./Images/\" + str(index) +\".jpg\")\n",
    "    except:\n",
    "        print(index)\n"
   ]
  },
  {
   "cell_type": "code",
   "execution_count": null,
   "metadata": {},
   "outputs": [],
   "source": [
    "from IPython.display import Image\n",
    "from IPython.core.display import HTML \n",
    "Image(url=df['imUrl'][70001])"
   ]
  }
 ],
 "metadata": {
  "kernelspec": {
   "display_name": "Python 3",
   "language": "python",
   "name": "python3"
  },
  "language_info": {
   "codemirror_mode": {
    "name": "ipython",
    "version": 3
   },
   "file_extension": ".py",
   "mimetype": "text/x-python",
   "name": "python",
   "nbconvert_exporter": "python",
   "pygments_lexer": "ipython3",
   "version": "3.6.5"
  }
 },
 "nbformat": 4,
 "nbformat_minor": 2
}
